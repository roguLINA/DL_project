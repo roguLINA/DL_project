{
 "cells": [
  {
   "cell_type": "code",
   "execution_count": 1,
   "metadata": {
    "scrolled": true
   },
   "outputs": [],
   "source": [
    "# !pip install torch==1.10.2+cu113  torchvision==0.11.3+cu113  -f https://download.pytorch.org/whl/torch_stable.html"
   ]
  },
  {
   "cell_type": "code",
   "execution_count": 2,
   "metadata": {},
   "outputs": [],
   "source": [
    "import os\n",
    "import tqdm\n",
    "import numpy as np\n",
    "\n",
    "import torch\n",
    "import torch.nn as nn\n",
    "# import torch.nn.functional as F\n",
    "import torch.optim as optim\n",
    "import torchvision\n",
    "from sklearn.metrics import accuracy_score\n",
    "import matplotlib.pyplot as plt\n",
    "\n",
    "%load_ext autoreload\n",
    "%autoreload 1\n",
    "%aimport utils_data\n",
    "%aimport utils_model\n",
    "%aimport utils_attack"
   ]
  },
  {
   "cell_type": "code",
   "execution_count": 3,
   "metadata": {},
   "outputs": [
    {
     "data": {
      "text/plain": [
       "'1.10.2+cu113'"
      ]
     },
     "execution_count": 3,
     "metadata": {},
     "output_type": "execute_result"
    }
   ],
   "source": [
    "torch.__version__"
   ]
  },
  {
   "cell_type": "code",
   "execution_count": 4,
   "metadata": {},
   "outputs": [],
   "source": [
    "device = torch.device('cuda:0' if torch.cuda.is_available() else 'cpu')"
   ]
  },
  {
   "cell_type": "markdown",
   "metadata": {},
   "source": [
    "# Datasets and dataloaders preparation "
   ]
  },
  {
   "cell_type": "code",
   "execution_count": 5,
   "metadata": {},
   "outputs": [
    {
     "name": "stdout",
     "output_type": "stream",
     "text": [
      "Files already downloaded and verified\n",
      "Files already downloaded and verified\n"
     ]
    }
   ],
   "source": [
    "(train_set_10, test_set_10), (train_loader_10, test_loader_10) = utils_data.get_train_test_dataloaders(\n",
    "    dataset_type='cifar10', \n",
    "    root_data_folder='./data', \n",
    "    batch_size=64\n",
    ")"
   ]
  },
  {
   "cell_type": "code",
   "execution_count": 6,
   "metadata": {},
   "outputs": [
    {
     "name": "stdout",
     "output_type": "stream",
     "text": [
      "Files already downloaded and verified\n",
      "Files already downloaded and verified\n"
     ]
    }
   ],
   "source": [
    "(train_set_100, test_set_100), (train_loader_100, test_loader_100) = utils_data.get_train_test_dataloaders(\n",
    "    dataset_type='cifar100', \n",
    "    root_data_folder='./data', \n",
    "    batch_size=64\n",
    ")"
   ]
  },
  {
   "cell_type": "markdown",
   "metadata": {},
   "source": [
    "# Model"
   ]
  },
  {
   "cell_type": "markdown",
   "metadata": {},
   "source": [
    "## Loading and fine-tuning ResNet50 pretrained on ImageNet \n",
    "**(you can skip this part if you already have a model pretrained on CIFAR10/100)**"
   ]
  },
  {
   "cell_type": "code",
   "execution_count": 7,
   "metadata": {
    "scrolled": true
   },
   "outputs": [],
   "source": [
    "# model_10 = torchvision.models.resnet50(pretrained=True)\n",
    "# model_10.fc = nn.Linear(in_features=2048, out_features=10, bias=True)\n",
    "# model_10 = model_10.to(device)\n",
    "# model_10"
   ]
  },
  {
   "cell_type": "code",
   "execution_count": 8,
   "metadata": {
    "scrolled": true
   },
   "outputs": [],
   "source": [
    "# model_100 = torchvision.models.resnet50(pretrained=True)\n",
    "# model_100.fc = nn.Linear(in_features=2048, out_features=100, bias=True)\n",
    "# model_100 = model_100.to(device)\n",
    "# model_100"
   ]
  },
  {
   "cell_type": "code",
   "execution_count": 9,
   "metadata": {
    "scrolled": true
   },
   "outputs": [],
   "source": [
    "# utils_data.set_random_seeds(seed_value=123, device=device)\n",
    "# criterion = nn.CrossEntropyLoss()\n",
    "\n",
    "# '''source https://github.com/kuangliu/pytorch-cifar/blob/master/main.py'''\n",
    "# optimizer_10 = optim.SGD(model_10.parameters(), lr=1e-3,\n",
    "#                       momentum=0.9, weight_decay=5e-4)\n",
    "# scheduler_10 = torch.optim.lr_scheduler.CosineAnnealingLR(optimizer_10, T_max=200)"
   ]
  },
  {
   "cell_type": "code",
   "execution_count": 10,
   "metadata": {},
   "outputs": [],
   "source": [
    "# utils_data.set_random_seeds(seed_value=123, device=device)\n",
    "# criterion = nn.CrossEntropyLoss()\n",
    "\n",
    "# optimizer_100 = optim.SGD(model_100.parameters(), lr=1e-3,\n",
    "#                       momentum=0.9, weight_decay=5e-4)\n",
    "# scheduler_100 = torch.optim.lr_scheduler.CosineAnnealingLR(optimizer_100, T_max=200)"
   ]
  },
  {
   "cell_type": "code",
   "execution_count": 11,
   "metadata": {
    "scrolled": true
   },
   "outputs": [],
   "source": [
    "# model_10 = utils_model.train(train_loader_10, test_loader_10, model_10, criterion, optimizer_10, scheduler_10, n_epochs=10, device=device)"
   ]
  },
  {
   "cell_type": "code",
   "execution_count": 12,
   "metadata": {
    "scrolled": true
   },
   "outputs": [],
   "source": [
    "# model_100 = utils_model.train(train_loader_100, test_loader_100, model_100, criterion, optimizer_100, scheduler_100, n_epochs=10, device=device)"
   ]
  },
  {
   "cell_type": "code",
   "execution_count": 13,
   "metadata": {},
   "outputs": [],
   "source": [
    "# path_to_model_save = './models'\n",
    "# torch.save(model_10.state_dict(), os.path.join(path_to_model_save, 'cifar10.pt'))"
   ]
  },
  {
   "cell_type": "code",
   "execution_count": 14,
   "metadata": {},
   "outputs": [],
   "source": [
    "# path_to_model_save = './models'\n",
    "# torch.save(model_100.state_dict(), os.path.join(path_to_model_save, 'cifar100.pt'))"
   ]
  },
  {
   "cell_type": "markdown",
   "metadata": {},
   "source": [
    "## Load a model pretrained on CIFAR10/100\n",
    "**to load pretrained model uncomment the cell below**"
   ]
  },
  {
   "cell_type": "code",
   "execution_count": 15,
   "metadata": {},
   "outputs": [],
   "source": [
    "path_to_model_save = './models'\n",
    "model_10 = torchvision.models.resnet50(pretrained=True)\n",
    "model_10.fc = nn.Linear(in_features=2048, out_features=10, bias=True)\n",
    "model_10.load_state_dict(\n",
    "    torch.load(\n",
    "        os.path.join(path_to_model_save, 'cifar10.pt'), map_location=device\n",
    "    )\n",
    ")\n",
    "model_10 = model_10.to(device)"
   ]
  },
  {
   "cell_type": "code",
   "execution_count": 16,
   "metadata": {},
   "outputs": [],
   "source": [
    "path_to_model_save = './models'\n",
    "model_100 = torchvision.models.resnet50(pretrained=True)\n",
    "model_100.fc = nn.Linear(in_features=2048, out_features=100, bias=True)\n",
    "model_100.load_state_dict(\n",
    "    torch.load(\n",
    "        os.path.join(path_to_model_save, 'cifar100.pt'), map_location=device\n",
    "    )\n",
    ")\n",
    "model_100 = model_100.to(device)"
   ]
  },
  {
   "cell_type": "code",
   "execution_count": 17,
   "metadata": {},
   "outputs": [],
   "source": [
    "utils_data.set_random_seeds(seed_value=123, device=device)\n",
    "\n",
    "'''source https://github.com/kuangliu/pytorch-cifar/blob/master/main.py'''\n",
    "# optimizer = optim.SGD(model.parameters(), lr=1e-3,\n",
    "#                       momentum=0.9, weight_decay=5e-4)\n",
    "# scheduler = torch.optim.lr_scheduler.CosineAnnealingLR(optimizer, T_max=200)\n",
    "\n",
    "criterion = nn.CrossEntropyLoss()"
   ]
  },
  {
   "cell_type": "markdown",
   "metadata": {},
   "source": [
    "# FGSM attack"
   ]
  },
  {
   "cell_type": "markdown",
   "metadata": {},
   "source": [
    "We will attack only correct classified examples"
   ]
  },
  {
   "cell_type": "code",
   "execution_count": 18,
   "metadata": {},
   "outputs": [],
   "source": [
    "def get_only_correct_classified_examples(dataloader, clf, batch_size=64, device='cpu'):\n",
    "    correct_images, correct_labels = torch.tensor([], device=device), torch.tensor([], device=device)\n",
    "    for images, labels in dataloader:\n",
    "        images, labels = images.to(device), labels.to(device)\n",
    "        preds = clf(images)\n",
    "        _, output_tag = torch.max(preds, dim=1) \n",
    "        correct_images = torch.cat([correct_images, images[output_tag == labels]], dim=0)\n",
    "        correct_labels = torch.cat([correct_labels, labels[output_tag == labels]], dim=0)\n",
    "        #correct_labels = torch.cat([correct_labels, labels[output_tag == labels].float()], dim=0)\n",
    "\n",
    "    correct_dataset = torch.utils.data.TensorDataset(correct_images, correct_labels)\n",
    "    \n",
    "    return correct_dataset, torch.utils.data.DataLoader(\n",
    "            correct_dataset, batch_size=batch_size,\n",
    "            shuffle=False, num_workers=0\n",
    "        )"
   ]
  },
  {
   "cell_type": "code",
   "execution_count": 19,
   "metadata": {},
   "outputs": [],
   "source": [
    "test_set_10, test_loader_10 = get_only_correct_classified_examples(test_loader_10, model_10, device=device)\n",
    "test_set_100, test_loader_100 = get_only_correct_classified_examples(test_loader_100, model_100, device=device)"
   ]
  },
  {
   "cell_type": "code",
   "execution_count": 20,
   "metadata": {},
   "outputs": [
    {
     "data": {
      "text/plain": [
       "(8463, 5897)"
      ]
     },
     "execution_count": 20,
     "metadata": {},
     "output_type": "execute_result"
    }
   ],
   "source": [
    "cnt_10 = sum([1 for _ in test_set_10])\n",
    "cnt_100 = sum([1 for _ in test_set_100])\n",
    "cnt_10, cnt_100"
   ]
  },
  {
   "cell_type": "code",
   "execution_count": 21,
   "metadata": {
    "scrolled": true
   },
   "outputs": [
    {
     "name": "stderr",
     "output_type": "stream",
     "text": [
      "100%|██████████| 20/20 [04:09<00:00, 12.46s/it]\n"
     ]
    },
    {
     "data": {
      "text/html": [
       "<div>\n",
       "<style scoped>\n",
       "    .dataframe tbody tr th:only-of-type {\n",
       "        vertical-align: middle;\n",
       "    }\n",
       "\n",
       "    .dataframe tbody tr th {\n",
       "        vertical-align: top;\n",
       "    }\n",
       "\n",
       "    .dataframe thead th {\n",
       "        text-align: right;\n",
       "    }\n",
       "</style>\n",
       "<table border=\"1\" class=\"dataframe\">\n",
       "  <thead>\n",
       "    <tr style=\"text-align: right;\">\n",
       "      <th>Metric</th>\n",
       "      <th>Accuracy</th>\n",
       "    </tr>\n",
       "    <tr>\n",
       "      <th>Noise sigma</th>\n",
       "      <th></th>\n",
       "    </tr>\n",
       "  </thead>\n",
       "  <tbody>\n",
       "    <tr>\n",
       "      <th>0.001000</th>\n",
       "      <td>0.961361</td>\n",
       "    </tr>\n",
       "    <tr>\n",
       "      <th>0.001438</th>\n",
       "      <td>0.956280</td>\n",
       "    </tr>\n",
       "    <tr>\n",
       "      <th>0.002069</th>\n",
       "      <td>0.947182</td>\n",
       "    </tr>\n",
       "    <tr>\n",
       "      <th>0.002976</th>\n",
       "      <td>0.937020</td>\n",
       "    </tr>\n",
       "    <tr>\n",
       "      <th>0.004281</th>\n",
       "      <td>0.917641</td>\n",
       "    </tr>\n",
       "    <tr>\n",
       "      <th>0.006158</th>\n",
       "      <td>0.880066</td>\n",
       "    </tr>\n",
       "    <tr>\n",
       "      <th>0.008859</th>\n",
       "      <td>0.831029</td>\n",
       "    </tr>\n",
       "    <tr>\n",
       "      <th>0.012743</th>\n",
       "      <td>0.762732</td>\n",
       "    </tr>\n",
       "    <tr>\n",
       "      <th>0.018330</th>\n",
       "      <td>0.668439</td>\n",
       "    </tr>\n",
       "    <tr>\n",
       "      <th>0.026367</th>\n",
       "      <td>0.551696</td>\n",
       "    </tr>\n",
       "    <tr>\n",
       "      <th>0.037927</th>\n",
       "      <td>0.425381</td>\n",
       "    </tr>\n",
       "    <tr>\n",
       "      <th>0.054556</th>\n",
       "      <td>0.309701</td>\n",
       "    </tr>\n",
       "    <tr>\n",
       "      <th>0.078476</th>\n",
       "      <td>0.218126</td>\n",
       "    </tr>\n",
       "    <tr>\n",
       "      <th>0.112884</th>\n",
       "      <td>0.147702</td>\n",
       "    </tr>\n",
       "    <tr>\n",
       "      <th>0.162378</th>\n",
       "      <td>0.111663</td>\n",
       "    </tr>\n",
       "    <tr>\n",
       "      <th>0.233572</th>\n",
       "      <td>0.090866</td>\n",
       "    </tr>\n",
       "    <tr>\n",
       "      <th>0.335982</th>\n",
       "      <td>0.085076</td>\n",
       "    </tr>\n",
       "    <tr>\n",
       "      <th>0.483293</th>\n",
       "      <td>0.092284</td>\n",
       "    </tr>\n",
       "    <tr>\n",
       "      <th>0.695193</th>\n",
       "      <td>0.100201</td>\n",
       "    </tr>\n",
       "    <tr>\n",
       "      <th>1.000000</th>\n",
       "      <td>0.108000</td>\n",
       "    </tr>\n",
       "  </tbody>\n",
       "</table>\n",
       "</div>"
      ],
      "text/plain": [
       "Metric       Accuracy\n",
       "Noise sigma          \n",
       "0.001000     0.961361\n",
       "0.001438     0.956280\n",
       "0.002069     0.947182\n",
       "0.002976     0.937020\n",
       "0.004281     0.917641\n",
       "0.006158     0.880066\n",
       "0.008859     0.831029\n",
       "0.012743     0.762732\n",
       "0.018330     0.668439\n",
       "0.026367     0.551696\n",
       "0.037927     0.425381\n",
       "0.054556     0.309701\n",
       "0.078476     0.218126\n",
       "0.112884     0.147702\n",
       "0.162378     0.111663\n",
       "0.233572     0.090866\n",
       "0.335982     0.085076\n",
       "0.483293     0.092284\n",
       "0.695193     0.100201\n",
       "1.000000     0.108000"
      ]
     },
     "execution_count": 21,
     "metadata": {},
     "output_type": "execute_result"
    }
   ],
   "source": [
    "results_df_10 = utils_attack.test_robustness_simple(\n",
    "    model_10,\n",
    "    test_loader_10,\n",
    "    criterion,\n",
    "    (1e-3, 1e0, 20), # (1e-3, 1e0, 20),\n",
    "    attack_type=\"fgsm\",\n",
    "    n_samples_ret=5,\n",
    "    device=device\n",
    ")\n",
    "results_df_10"
   ]
  },
  {
   "cell_type": "code",
   "execution_count": 22,
   "metadata": {
    "scrolled": true
   },
   "outputs": [
    {
     "name": "stderr",
     "output_type": "stream",
     "text": [
      "100%|██████████| 20/20 [02:59<00:00,  8.98s/it]\n"
     ]
    },
    {
     "data": {
      "text/html": [
       "<div>\n",
       "<style scoped>\n",
       "    .dataframe tbody tr th:only-of-type {\n",
       "        vertical-align: middle;\n",
       "    }\n",
       "\n",
       "    .dataframe tbody tr th {\n",
       "        vertical-align: top;\n",
       "    }\n",
       "\n",
       "    .dataframe thead th {\n",
       "        text-align: right;\n",
       "    }\n",
       "</style>\n",
       "<table border=\"1\" class=\"dataframe\">\n",
       "  <thead>\n",
       "    <tr style=\"text-align: right;\">\n",
       "      <th>Metric</th>\n",
       "      <th>Accuracy</th>\n",
       "    </tr>\n",
       "    <tr>\n",
       "      <th>Noise sigma</th>\n",
       "      <th></th>\n",
       "    </tr>\n",
       "  </thead>\n",
       "  <tbody>\n",
       "    <tr>\n",
       "      <th>0.001000</th>\n",
       "      <td>0.914702</td>\n",
       "    </tr>\n",
       "    <tr>\n",
       "      <th>0.001438</th>\n",
       "      <td>0.904528</td>\n",
       "    </tr>\n",
       "    <tr>\n",
       "      <th>0.002069</th>\n",
       "      <td>0.890283</td>\n",
       "    </tr>\n",
       "    <tr>\n",
       "      <th>0.002976</th>\n",
       "      <td>0.871799</td>\n",
       "    </tr>\n",
       "    <tr>\n",
       "      <th>0.004281</th>\n",
       "      <td>0.836527</td>\n",
       "    </tr>\n",
       "    <tr>\n",
       "      <th>0.006158</th>\n",
       "      <td>0.784467</td>\n",
       "    </tr>\n",
       "    <tr>\n",
       "      <th>0.008859</th>\n",
       "      <td>0.719858</td>\n",
       "    </tr>\n",
       "    <tr>\n",
       "      <th>0.012743</th>\n",
       "      <td>0.637443</td>\n",
       "    </tr>\n",
       "    <tr>\n",
       "      <th>0.018330</th>\n",
       "      <td>0.532983</td>\n",
       "    </tr>\n",
       "    <tr>\n",
       "      <th>0.026367</th>\n",
       "      <td>0.423775</td>\n",
       "    </tr>\n",
       "    <tr>\n",
       "      <th>0.037927</th>\n",
       "      <td>0.323894</td>\n",
       "    </tr>\n",
       "    <tr>\n",
       "      <th>0.054556</th>\n",
       "      <td>0.242157</td>\n",
       "    </tr>\n",
       "    <tr>\n",
       "      <th>0.078476</th>\n",
       "      <td>0.173308</td>\n",
       "    </tr>\n",
       "    <tr>\n",
       "      <th>0.112884</th>\n",
       "      <td>0.135153</td>\n",
       "    </tr>\n",
       "    <tr>\n",
       "      <th>0.162378</th>\n",
       "      <td>0.111752</td>\n",
       "    </tr>\n",
       "    <tr>\n",
       "      <th>0.233572</th>\n",
       "      <td>0.093437</td>\n",
       "    </tr>\n",
       "    <tr>\n",
       "      <th>0.335982</th>\n",
       "      <td>0.074614</td>\n",
       "    </tr>\n",
       "    <tr>\n",
       "      <th>0.483293</th>\n",
       "      <td>0.057317</td>\n",
       "    </tr>\n",
       "    <tr>\n",
       "      <th>0.695193</th>\n",
       "      <td>0.036120</td>\n",
       "    </tr>\n",
       "    <tr>\n",
       "      <th>1.000000</th>\n",
       "      <td>0.020010</td>\n",
       "    </tr>\n",
       "  </tbody>\n",
       "</table>\n",
       "</div>"
      ],
      "text/plain": [
       "Metric       Accuracy\n",
       "Noise sigma          \n",
       "0.001000     0.914702\n",
       "0.001438     0.904528\n",
       "0.002069     0.890283\n",
       "0.002976     0.871799\n",
       "0.004281     0.836527\n",
       "0.006158     0.784467\n",
       "0.008859     0.719858\n",
       "0.012743     0.637443\n",
       "0.018330     0.532983\n",
       "0.026367     0.423775\n",
       "0.037927     0.323894\n",
       "0.054556     0.242157\n",
       "0.078476     0.173308\n",
       "0.112884     0.135153\n",
       "0.162378     0.111752\n",
       "0.233572     0.093437\n",
       "0.335982     0.074614\n",
       "0.483293     0.057317\n",
       "0.695193     0.036120\n",
       "1.000000     0.020010"
      ]
     },
     "execution_count": 22,
     "metadata": {},
     "output_type": "execute_result"
    }
   ],
   "source": [
    "results_df_100 = utils_attack.test_robustness_simple(\n",
    "    model_100,\n",
    "    test_loader_100,\n",
    "    criterion,\n",
    "    (1e-3, 1e0, 20), # (1e-3, 1e0, 20),\n",
    "    attack_type=\"fgsm\",\n",
    "    n_samples_ret=5,\n",
    "    device=device\n",
    ")\n",
    "results_df_100"
   ]
  },
  {
   "cell_type": "code",
   "execution_count": 23,
   "metadata": {},
   "outputs": [
    {
     "data": {
      "image/png": "[encoded data removed]",
      "text/plain": [
       "<Figure size 720x432 with 1 Axes>"
      ]
     },
     "metadata": {
      "needs_background": "light"
     },
     "output_type": "display_data"
    }
   ],
   "source": [
    "fig, ax = plt.subplots(1, 1, figsize=(10, 6))\n",
    "\n",
    "ax.plot(results_df_10.index, results_df_10['Accuracy'], label='CIFAR-10')\n",
    "ax.plot(results_df_100.index, results_df_100['Accuracy'], label='CIFAR-100')\n",
    "ax.set_xlabel('Noise sigma')\n",
    "ax.set_ylabel('Accuracy')\n",
    "ax.grid(visible=True)\n",
    "ax.legend()\n",
    "\n",
    "plt.tight_layout()\n",
    "plt.show()"
   ]
  },
  {
   "cell_type": "code",
   "execution_count": 24,
   "metadata": {},
   "outputs": [
    {
     "data": {
      "text/plain": [
       "(0.9741226515420064, 0.9340342547057826)"
      ]
     },
     "execution_count": 24,
     "metadata": {},
     "output_type": "execute_result"
    }
   ],
   "source": [
    "all_preds_10, all_preds_100 = torch.tensor([], device=device), torch.tensor([], device=device)\n",
    "all_labels_10, all_labels_100 =  torch.tensor([], device=device), torch.tensor([], device=device)\n",
    "# for images, labels in tqdm(test_loader_10):\n",
    "for images, labels in test_loader_10:\n",
    "    images, labels = images.to(device), labels.to(device)\n",
    "    pred_10 = model_10(images)\n",
    "    all_preds_10 = torch.cat([all_preds_10, pred_10.argmax(axis=1)])\n",
    "    all_labels_10 = torch.cat([all_labels_10, labels])\n",
    "    \n",
    "# for images, labels in tqdm(test_loader_100):\n",
    "for images, labels in test_loader_100:\n",
    "    images, labels = images.to(device), labels.to(device)\n",
    "    pred_100 = model_100(images)\n",
    "    all_preds_100 = torch.cat([all_preds_100, pred_100.argmax(axis=1)])\n",
    "    all_labels_100 = torch.cat([all_labels_100, labels])\n",
    "    \n",
    "acc_10 = accuracy_score(all_labels_10.detach().cpu().numpy(), all_preds_10.detach().cpu().numpy())\n",
    "acc_100 = accuracy_score(all_labels_100.detach().cpu().numpy(), all_preds_100.detach().cpu().numpy())\n",
    "acc_10, acc_100"
   ]
  },
  {
   "cell_type": "code",
   "execution_count": 25,
   "metadata": {},
   "outputs": [],
   "source": [
    "all_preds_10_np = all_preds_10.detach().cpu().numpy()\n",
    "all_preds_100_np = all_preds_100.detach().cpu().numpy()"
   ]
  },
  {
   "cell_type": "code",
   "execution_count": null,
   "metadata": {},
   "outputs": [],
   "source": []
  },
  {
   "cell_type": "code",
   "execution_count": null,
   "metadata": {},
   "outputs": [],
   "source": []
  },
  {
   "cell_type": "code",
   "execution_count": null,
   "metadata": {},
   "outputs": [],
   "source": []
  },
  {
   "cell_type": "code",
   "execution_count": 46,
   "metadata": {},
   "outputs": [
    {
     "name": "stderr",
     "output_type": "stream",
     "text": [
      "Clipping input data to the valid range for imshow with RGB data ([0..1] for floats or [0..255] for integers).\n"
     ]
    },
    {
     "name": "stdout",
     "output_type": "stream",
     "text": [
      "torch.Size([3, 32, 32])\n"
     ]
    },
    {
     "data": {
      "text/plain": [
       "<matplotlib.image.AxesImage at 0x7f9cd355f6d0>"
      ]
     },
     "execution_count": 46,
     "metadata": {},
     "output_type": "execute_result"
    },
    {
     "data": {
      "image/png": "[encoded data removed]",
      "text/plain": [
       "<Figure size 432x288 with 1 Axes>"
      ]
     },
     "metadata": {
      "needs_background": "light"
     },
     "output_type": "display_data"
    }
   ],
   "source": [
    "img, l = test_set_10[1]\n",
    "print(img.shape)\n",
    "plt.imshow(\n",
    "    np.transpose(img.detach().cpu().numpy(),[1,2,0])\n",
    ")\n",
    "# plt.imshow(img.detach().cpu().numpy().reshape(32, 32, 3))"
   ]
  },
  {
   "cell_type": "code",
   "execution_count": 48,
   "metadata": {},
   "outputs": [
    {
     "name": "stderr",
     "output_type": "stream",
     "text": [
      "Clipping input data to the valid range for imshow with RGB data ([0..1] for floats or [0..255] for integers).\n"
     ]
    },
    {
     "name": "stdout",
     "output_type": "stream",
     "text": [
      "torch.Size([64, 3, 32, 32])\n"
     ]
    },
    {
     "data": {
      "text/plain": [
       "<matplotlib.image.AxesImage at 0x7f9bb02f4e10>"
      ]
     },
     "execution_count": 48,
     "metadata": {},
     "output_type": "execute_result"
    },
    {
     "data": {
      "image/png": "[encoded data removed]",
      "text/plain": [
       "<Figure size 432x288 with 1 Axes>"
      ]
     },
     "metadata": {
      "needs_background": "light"
     },
     "output_type": "display_data"
    }
   ],
   "source": [
    "img, l = next(iter(test_loader_10))\n",
    "print(img.shape)\n",
    "plt.imshow(\n",
    "    np.transpose(img[0].detach().cpu().numpy(),[1,2,0])\n",
    ")"
   ]
  },
  {
   "cell_type": "code",
   "execution_count": null,
   "metadata": {},
   "outputs": [
    {
     "name": "stderr",
     "output_type": "stream",
     "text": [
      "  0%|          | 0/40 [00:00<?, ?it/s]"
     ]
    }
   ],
   "source": [
    "preds_class_change_10, radii_class_change_10 = utils_attack.get_adversarial_radii(\n",
    "    model_10,\n",
    "    all_preds_10_np,\n",
    "    dataloader=test_loader_10,\n",
    "    loss=criterion,\n",
    "    num_samples=cnt_10,\n",
    "    min_v=1e-3,\n",
    "    max_v=1000,\n",
    "    step_v=2 ** 0.5,\n",
    "    method=\"fgsm\",\n",
    "    device=device,\n",
    ")\n",
    "\n",
    "preds_class_change_100, radii_class_change_100 = utils_attack.get_adversarial_radii(\n",
    "    model_100,\n",
    "    all_preds_100_np,\n",
    "    dataloader=test_loader_100,\n",
    "    loss=criterion,\n",
    "    num_samples=cnt_100,\n",
    "    min_v=1e-3,\n",
    "    max_v=1000,\n",
    "    step_v=2 ** 0.5,\n",
    "    method=\"fgsm\",\n",
    "    device=device,\n",
    ")"
   ]
  },
  {
   "cell_type": "code",
   "execution_count": null,
   "metadata": {},
   "outputs": [],
   "source": [
    "# preds_class_change_10, radii_class_change_10 = utils_attack.get_adversarial_radii(\n",
    "#     model_10,\n",
    "#     all_preds_10_np,\n",
    "#     dataloader=test_loader_10,\n",
    "#     loss=criterion,\n",
    "#     num_samples=cnt_10,\n",
    "#     min_v=1e-4,\n",
    "#     max_v=10,\n",
    "#     step_v=2 ** 0.5,\n",
    "#     method=\"pgd\",\n",
    "#     device=device,\n",
    "# )\n",
    "\n",
    "# preds_class_change_100, radii_class_change_100 = utils_attack.get_adversarial_radii(\n",
    "#     model_100,\n",
    "#     all_preds_100_np,\n",
    "#     dataloader=test_loader_100,\n",
    "#     loss=criterion,\n",
    "#     num_samples=cnt_100,\n",
    "#     min_v=1e-4,\n",
    "#     max_v=10,\n",
    "#     step_v=2 ** 0.5,\n",
    "#     method=\"pgd\",\n",
    "#     device=device,\n",
    "# )"
   ]
  },
  {
   "cell_type": "code",
   "execution_count": null,
   "metadata": {},
   "outputs": [],
   "source": [
    "# finite_radii_class_change_mask.shape, radii_inv_class_change.shape, finite_radii_class_change_mask.sum()"
   ]
  },
  {
   "cell_type": "code",
   "execution_count": null,
   "metadata": {},
   "outputs": [],
   "source": [
    "radii_inv_class_change_10, radii_inv_class_change_100 = -radii_class_change_10, -radii_class_change_100\n",
    "# radii_inv_class_change_10, radii_inv_class_change_100 = 1. / radii_class_change_10, 1. / radii_class_change_100\n",
    "finite_radii_class_change_mask_10, finite_radii_class_change_mask_100 = radii_inv_class_change_10 != -np.inf, radii_inv_class_change_100 != -np.inf\n",
    "radii_inv_class_change_finite_10, radii_inv_class_change_finite_100 = radii_inv_class_change_10[finite_radii_class_change_mask_10], radii_inv_class_change_100[finite_radii_class_change_mask_100]\n",
    "preds_class_change_10, preds_class_change_100 = all_preds_10_np[finite_radii_class_change_mask_10], all_preds_100_np[finite_radii_class_change_mask_100]"
   ]
  },
  {
   "cell_type": "code",
   "execution_count": null,
   "metadata": {},
   "outputs": [],
   "source": [
    "radii_class_change_finite_10, radii_class_change_finite_100 = radii_class_change_10[finite_radii_class_change_mask_10], radii_class_change_100[finite_radii_class_change_mask_100]"
   ]
  },
  {
   "cell_type": "code",
   "execution_count": null,
   "metadata": {},
   "outputs": [],
   "source": [
    "finite_radii_class_change_mask_10.mean(), finite_radii_class_change_mask_100.mean()"
   ]
  },
  {
   "cell_type": "code",
   "execution_count": null,
   "metadata": {},
   "outputs": [],
   "source": [
    "min_eps = 1e-4\n",
    "max_eps = 1e3\n",
    "step_eps = 2 ** 0.5\n",
    "num_eps = int((np.log10(max_eps) - np.log10(min_eps)) / np.log10(step_eps)) + 1\n",
    "bins = list(np.geomspace(min_eps, max_eps, num_eps))"
   ]
  },
  {
   "cell_type": "code",
   "execution_count": null,
   "metadata": {},
   "outputs": [],
   "source": [
    "fig, ax = plt.subplots(nrows=1, ncols=2, figsize=(20,6))\n",
    "ax[0].hist(radii_class_change_finite_10, bins=bins);\n",
    "ax[0].set_title('CIFAR-10')\n",
    "ax[0].set_xscale('log')\n",
    "ax[0].set_yscale('log')\n",
    "\n",
    "ax[1].hist(radii_class_change_finite_100, bins=bins);\n",
    "ax[1].set_title('CIFAR-100')\n",
    "ax[1].set_xscale('log')\n",
    "ax[1].set_yscale('log')"
   ]
  },
  {
   "cell_type": "code",
   "execution_count": null,
   "metadata": {},
   "outputs": [],
   "source": [
    "fig, ax = plt.subplots(1, 1, figsize=(10,8))\n",
    "ax.hist(radii_class_change_finite_10, bins=bins, label='CIFAR-10', alpha=0.5);\n",
    "ax.hist(radii_class_change_finite_100, bins=bins, label='CIFAR-100', alpha=0.5);\n",
    "ax.set_xscale('log')\n",
    "ax.set_yscale('log')\n",
    "ax.legend(loc='upper right');"
   ]
  },
  {
   "cell_type": "code",
   "execution_count": null,
   "metadata": {},
   "outputs": [],
   "source": [
    "from functools import partial\n",
    "\n",
    "def get_radii_preds_func(radii, preds):\n",
    "    return preds, radii\n",
    "\n",
    "get_radii_inv_partial_class_change_10 = partial(get_radii_preds_func, radii_inv_class_change_10)\n",
    "get_radii_inv_partial_class_change_100 = partial(get_radii_preds_func, radii_inv_class_change_100)"
   ]
  },
  {
   "cell_type": "code",
   "execution_count": null,
   "metadata": {
    "scrolled": true
   },
   "outputs": [],
   "source": [
    "rejection_rates = np.linspace(0, 1.0, 20)\n",
    "\n",
    "radii_accs_class_change_10 = utils_attack.reject_by_metric(\n",
    "    get_radii_inv_partial_class_change_10,\n",
    "    all_preds_10_np,\n",
    "    all_labels_10.detach().cpu().numpy(),\n",
    "    rejection_rates,\n",
    "    accuracy_score\n",
    ")\n",
    "radii_accs_class_change_100 = utils_attack.reject_by_metric(\n",
    "    get_radii_inv_partial_class_change_100,\n",
    "    all_preds_100_np,\n",
    "    all_labels_100.detach().cpu().numpy(),\n",
    "    rejection_rates,\n",
    "    accuracy_score\n",
    ")"
   ]
  },
  {
   "cell_type": "code",
   "execution_count": null,
   "metadata": {},
   "outputs": [],
   "source": [
    "fig, ax = plt.subplots(1, 1, figsize=(10, 6))\n",
    "\n",
    "perf_metrics = [radii_accs_class_change_10, radii_accs_class_change_100]\n",
    "line_labels = ['CIFAR-10', 'CIFAR-100']\n",
    "\n",
    "for metric, label in zip(perf_metrics, line_labels):\n",
    "    ax.plot(rejection_rates[0:len(metric)], metric, label=label)\n",
    "ax.set_xlabel('Rejection rate')\n",
    "ax.set_ylabel('Accuracy')\n",
    "ax.grid(visible=True)\n",
    "ax.legend()\n",
    "\n",
    "plt.tight_layout()\n",
    "plt.show()"
   ]
  },
  {
   "cell_type": "code",
   "execution_count": null,
   "metadata": {},
   "outputs": [],
   "source": [
    "pentropy_accs_10 = utils_attack.reject_by_metric(\n",
    "    utils_attack.get_ensemble_predictive_entropy,\n",
    "    all_preds_10_np,\n",
    "    all_labels_10.detach().cpu().numpy(), \n",
    "    rejection_rates,\n",
    "    accuracy_score\n",
    ")\n",
    "pentropy_accs_100 = utils_attack.reject_by_metric(\n",
    "    utils_attack.get_ensemble_predictive_entropy,\n",
    "    all_preds_100_np,\n",
    "    all_labels_100.detach().cpu().numpy(), \n",
    "    rejection_rates,\n",
    "    accuracy_score\n",
    ")"
   ]
  },
  {
   "cell_type": "code",
   "execution_count": null,
   "metadata": {},
   "outputs": [],
   "source": [
    "fig, ax = plt.subplots(1, 2, figsize=(20, 6))\n",
    "\n",
    "ax[0].plot(rejection_rates[0:len(pentropy_accs_10)], pentropy_accs_10, label='CIFAR-10')\n",
    "ax[0].set_xlabel('Rejection rate')\n",
    "ax[0].set_ylabel('Accuracy')\n",
    "ax[0].grid(visible=True)\n",
    "ax[0].legend()\n",
    "\n",
    "ax[1].plot(rejection_rates[0:len(pentropy_accs_100)], pentropy_accs_100, label='CIFAR-100')\n",
    "ax[1].set_xlabel('Rejection rate')\n",
    "ax[1].set_ylabel('Accuracy')\n",
    "ax[1].grid(visible=True)\n",
    "ax[1].legend()\n",
    "\n",
    "plt.tight_layout()\n",
    "plt.show()"
   ]
  },
  {
   "cell_type": "code",
   "execution_count": null,
   "metadata": {},
   "outputs": [],
   "source": []
  }
 ],
 "metadata": {
  "kernelspec": {
   "display_name": "Python 3",
   "language": "python",
   "name": "python3"
  },
  "language_info": {
   "codemirror_mode": {
    "name": "ipython",
    "version": 3
   },
   "file_extension": ".py",
   "mimetype": "text/x-python",
   "name": "python",
   "nbconvert_exporter": "python",
   "pygments_lexer": "ipython3",
   "version": "3.7.7"
  }
 },
 "nbformat": 4,
 "nbformat_minor": 4
}
